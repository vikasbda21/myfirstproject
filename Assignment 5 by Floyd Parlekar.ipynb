{
 "cells": [
  {
   "cell_type": "markdown",
   "id": "03517472",
   "metadata": {},
   "source": [
    "# Problem-1: Write a Python function that takes a list and returns a new list with unique elements of the first list.\n",
    "\n",
    "Exercise 1:\n",
    "\n",
    "Input:\n",
    "[1,2,3,3,3,3,4,5]\n",
    "\n",
    "Output:\n",
    "[1, 2, 3, 4, 5]"
   ]
  },
  {
   "cell_type": "code",
   "execution_count": 5,
   "id": "654a6a7c",
   "metadata": {},
   "outputs": [
    {
     "name": "stdout",
     "output_type": "stream",
     "text": [
      "[1, 2, 3, 4, 5]\n"
     ]
    }
   ],
   "source": [
    "def unique_list(lst):\n",
    "    new_list = []\n",
    "    for i in lst:\n",
    "        if i not in new_list:\n",
    "            new_list.append(i)\n",
    "    return new_list\n",
    "\n",
    "print(unique_list([1,2,3,3,3,3,4,5]))"
   ]
  },
  {
   "cell_type": "markdown",
   "id": "6de15223",
   "metadata": {},
   "source": [
    "# Problem-2: Write a Python function that accepts a hyphen-separated sequence of words as parameter and returns the words in a hyphen-separated sequence after sorting them alphabetically.\n",
    "\n",
    "Example 1:\n",
    "\n",
    "Input:\n",
    "\n",
    "green-red-yellow-black-white\n",
    "\n",
    "Output:\n",
    "\n",
    "black-green-red-white-yellow"
   ]
  },
  {
   "cell_type": "code",
   "execution_count": 6,
   "id": "702fdeb7",
   "metadata": {
    "scrolled": true
   },
   "outputs": [
    {
     "name": "stdout",
     "output_type": "stream",
     "text": [
      "black-green-red-white-yellow\n"
     ]
    }
   ],
   "source": [
    "s = 'green-red-yellow-black-white'\n",
    "l = s.split('-')\n",
    "l.sort()\n",
    "print('-'.join(l))"
   ]
  },
  {
   "cell_type": "markdown",
   "id": "101b507c",
   "metadata": {},
   "source": [
    "# Problem 3: Write a Python function that accepts a string and calculate the number of upper case letters and lower case letters.\n",
    "\n",
    "Sample String : 'Hello World'\n",
    "\n",
    "Expected Output :\n",
    "\n",
    "No. of Upper case characters : 2\n",
    "\n",
    "No. of Lower case Characters : 8\n"
   ]
  },
  {
   "cell_type": "code",
   "execution_count": 7,
   "id": "0b69ea76",
   "metadata": {},
   "outputs": [
    {
     "name": "stdout",
     "output_type": "stream",
     "text": [
      "No. of Upper case characters :  2\n",
      "No. of Lower case Characters :  8\n"
     ]
    }
   ],
   "source": [
    "def up_low(s):\n",
    "    upper = 0\n",
    "    lower = 0\n",
    "    for i in s:\n",
    "        if i.isupper():\n",
    "            upper += 1\n",
    "        elif i.islower():\n",
    "            lower += 1\n",
    "    print(\"No. of Upper case characters : \", upper)\n",
    "    print(\"No. of Lower case Characters : \", lower)\n",
    "\n",
    "up_low('Hello World')"
   ]
  },
  {
   "cell_type": "markdown",
   "id": "8acf7340",
   "metadata": {},
   "source": [
    "# Problem 4: Write a Python program to print the even numbers from a given list.\n",
    "\n",
    "Sample List : [1, 2, 3, 4, 5, 6, 7, 8, 9]\n",
    "\n",
    "Expected Result : [2, 4, 6, 8]"
   ]
  },
  {
   "cell_type": "code",
   "execution_count": 8,
   "id": "a3330683",
   "metadata": {},
   "outputs": [
    {
     "name": "stdout",
     "output_type": "stream",
     "text": [
      "[2, 4, 6, 8]\n"
     ]
    }
   ],
   "source": [
    "a =  [1, 2, 3, 4, 5, 6, 7, 8, 9]\n",
    "\n",
    "b = [number for number in a if number % 2 == 0]\n",
    "\n",
    "print(b)\n"
   ]
  },
  {
   "cell_type": "markdown",
   "id": "cb70a588",
   "metadata": {},
   "source": [
    "# Problem-5: Write a Python function to concatenate any no of dictionaries to create a new one.\n",
    "\n",
    "Sample Dictionary :\n",
    "\n",
    "dict1 = {1: \"one\", 2: \"two\"}\n",
    "\n",
    "dict2 = {3: \"three\", 4: \"four\"}\n",
    "\n",
    "dict3 = {5: \"five\", 6: \"six\"}\n",
    "\n",
    "Expected Result :{1: \"one\", 2: \"two\", 3: \"three\", 4: \"four\", 5: \"five\", 6: \"six\"}"
   ]
  },
  {
   "cell_type": "code",
   "execution_count": 9,
   "id": "e2e65465",
   "metadata": {},
   "outputs": [
    {
     "name": "stdout",
     "output_type": "stream",
     "text": [
      "{1: 'one', 2: 'two', 3: 'three', 4: 'four', 5: 'five', 6: 'six'}\n"
     ]
    }
   ],
   "source": [
    "def concatenate_dicts(*dict_args):\n",
    "    result = {}\n",
    "    for dictionary in dict_args:\n",
    "        result.update(dictionary)\n",
    "    return result\n",
    "\n",
    "print(concatenate_dicts({1: \"one\", 2: \"two\"},{3: \"three\", 4: \"four\"},{5: \"five\", 6: \"six\"}))"
   ]
  },
  {
   "cell_type": "markdown",
   "id": "504a3e33",
   "metadata": {},
   "source": [
    "# Problem-6 Write a python function that accepts a string as input and returns the word with most occurence.\n",
    "\n",
    "Input:\n",
    "\n",
    "hello how are you i am fine thank you\n",
    "\n",
    "Output\n",
    "\n",
    "you -> 2\n"
   ]
  },
  {
   "cell_type": "code",
   "execution_count": 10,
   "id": "ca047f32",
   "metadata": {},
   "outputs": [
    {
     "name": "stdout",
     "output_type": "stream",
     "text": [
      "('you', 2)\n"
     ]
    }
   ],
   "source": [
    "def word_count(str):\n",
    "    counts = dict()\n",
    "    words = str.split()\n",
    "\n",
    "    for word in words:\n",
    "        if word in counts:\n",
    "            counts[word] += 1\n",
    "        else:\n",
    "            counts[word] = 1\n",
    "\n",
    "    counts_x = sorted(counts.items(), key=lambda kv: kv[1])\n",
    "    #print(counts_x)\n",
    "    return counts_x[-1]\n",
    " \n",
    "print(word_count('hello how are you i am fine thank you'))"
   ]
  },
  {
   "cell_type": "markdown",
   "id": "a495f1c8",
   "metadata": {},
   "source": [
    "# Problem 7: Write a Python program to add three given lists using Python map and lambda.\n",
    "\n",
    "Input\n",
    "\n",
    "list1 = [1, 2, 3]\n",
    "\n",
    "list2 = [4, 5, 6]\n",
    "\n",
    "list3 = [7, 8, 9]\n",
    "\n",
    "output [12, 15, 18],"
   ]
  },
  {
   "cell_type": "code",
   "execution_count": 11,
   "id": "bf6ab0dd",
   "metadata": {},
   "outputs": [
    {
     "name": "stdout",
     "output_type": "stream",
     "text": [
      "[12, 15, 18]\n"
     ]
    }
   ],
   "source": [
    "l1 = [1, 2, 3]\n",
    "l2 = [4, 5, 6]\n",
    "l3 = [7, 8, 9]\n",
    "\n",
    "result = list(map(lambda x, y, z: x + y + z, l1, l2, l3))\n",
    "print(result)"
   ]
  },
  {
   "cell_type": "markdown",
   "id": "b507fdb1",
   "metadata": {},
   "source": [
    "# Problem-8: Write a Python program to create a list containing the power of said number in bases raised to the corresponding number in the index using Python map\n",
    "\n",
    "Input:\n",
    "\n",
    "list1 = [1,2,3,4,5,6]\n",
    "\n",
    "Output:\n",
    "\n",
    "[1,2,9,64,625,-]"
   ]
  },
  {
   "cell_type": "code",
   "execution_count": 15,
   "id": "d2b9092c",
   "metadata": {},
   "outputs": [
    {
     "name": "stdout",
     "output_type": "stream",
     "text": [
      "Base numbers abd index: \n",
      "[1, 2, 3, 4, 5, 6]\n",
      "[0, 1, 2, 3, 4, 5]\n",
      "Power of said number in bases raised to the corresponding number in the index:\n",
      "[1, 2, 9, 64, 625, 7776]\n"
     ]
    }
   ],
   "source": [
    "bases_num = [1, 2, 3, 4, 5, 6]\n",
    "index = [0,1, 2, 3, 4, 5,]\n",
    "print(\"Base numbers abd index: \")\n",
    "print(bases_num)\n",
    "print(index)\n",
    "result = list(map(pow, bases_num, index))\n",
    "print(\"Power of said number in bases raised to the corresponding number in the index:\")\n",
    "print(result)"
   ]
  },
  {
   "cell_type": "code",
   "execution_count": null,
   "id": "9563cb9b",
   "metadata": {},
   "outputs": [],
   "source": []
  }
 ],
 "metadata": {
  "kernelspec": {
   "display_name": "Python 3 (ipykernel)",
   "language": "python",
   "name": "python3"
  },
  "language_info": {
   "codemirror_mode": {
    "name": "ipython",
    "version": 3
   },
   "file_extension": ".py",
   "mimetype": "text/x-python",
   "name": "python",
   "nbconvert_exporter": "python",
   "pygments_lexer": "ipython3",
   "version": "3.9.13"
  }
 },
 "nbformat": 4,
 "nbformat_minor": 5
}
